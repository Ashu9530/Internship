{
 "cells": [
  {
   "cell_type": "code",
   "execution_count": 15,
   "id": "7d928a38",
   "metadata": {},
   "outputs": [
    {
     "name": "stdout",
     "output_type": "stream",
     "text": [
      "Enter Number :5\n",
      "Factorial = 120\n"
     ]
    }
   ],
   "source": [
    "#Python Code for Question No.11\n",
    "\n",
    "i = int(input('Enter Number :'))\n",
    "fac=1\n",
    "\n",
    "while (i>0):\n",
    "    fac=fac*i\n",
    "    i=i-1\n",
    "print('Factorial =',fac)"
   ]
  },
  {
   "cell_type": "code",
   "execution_count": 16,
   "id": "88f16e90",
   "metadata": {},
   "outputs": [
    {
     "name": "stdout",
     "output_type": "stream",
     "text": [
      "Enter the number :12\n",
      "Its a composite number\n"
     ]
    }
   ],
   "source": [
    "#Python Coding for Question N0.12\n",
    "\n",
    "num=int(input('Enter the number :'))\n",
    "\n",
    "count=0\n",
    "\n",
    "i=1\n",
    "while i<=num:\n",
    "    if num % i==0:\n",
    "        count=count+1\n",
    "    i=i+1\n",
    "\n",
    "if count == 2:\n",
    "    print ('Its a prime number')\n",
    "elif count > 2:\n",
    "    print('Its a composite number')\n",
    "else:\n",
    "    print ('The number is neither is Prime nor Composite')"
   ]
  },
  {
   "cell_type": "code",
   "execution_count": 32,
   "id": "cc004f25",
   "metadata": {},
   "outputs": [
    {
     "name": "stdout",
     "output_type": "stream",
     "text": [
      "Enter String:maam\n",
      "Palindrome string\n"
     ]
    }
   ],
   "source": [
    "#Python Coding for Question No. 13\n",
    "\n",
    "a=input('Enter String:')\n",
    "b=a[-1::-1]\n",
    "if(a==b):\n",
    "    print('Palindrome string')\n",
    "else:\n",
    "    print('Not Palindrome String')"
   ]
  },
  {
   "cell_type": "code",
   "execution_count": 34,
   "id": "0398621c",
   "metadata": {},
   "outputs": [
    {
     "name": "stdout",
     "output_type": "stream",
     "text": [
      "Input length of two sides: \n",
      "Enter a: 4\n",
      "Enter b: 3\n",
      "The length of Hypotenuse is:  5.0\n"
     ]
    }
   ],
   "source": [
    "#Python Coding for Question No. 14\n",
    "\n",
    "from math import sqrt\n",
    "\n",
    "print('Input length of two sides: ')\n",
    "a=float(input('Enter a: '))\n",
    "b=float(input('Enter b: '))\n",
    "c= sqrt(a**2 + b**2)\n",
    "print('The length of Hypotenuse is: ',c)"
   ]
  },
  {
   "cell_type": "code",
   "execution_count": 46,
   "id": "8a286606",
   "metadata": {},
   "outputs": [
    {
     "name": "stdout",
     "output_type": "stream",
     "text": [
      "Enter string : how are you\n",
      " Number of character appear in this string are :  11\n",
      "Number of word appear in this string are :  1\n"
     ]
    }
   ],
   "source": [
    "#Python Coding for Question No. 15\n",
    "\n",
    "string = input ('Enter string : ')\n",
    "ch = 0\n",
    "wrd = 1\n",
    "\n",
    "for i in string:\n",
    "    ch = ch + 1\n",
    "    if ( i == ''):\n",
    "        wrd = wrd + 1\n",
    "print (' Number of character appear in this string are : ',ch)\n",
    "print ('Number of word appear in this string are : ',wrd)"
   ]
  },
  {
   "cell_type": "code",
   "execution_count": null,
   "id": "70fa03a2",
   "metadata": {},
   "outputs": [],
   "source": []
  }
 ],
 "metadata": {
  "kernelspec": {
   "display_name": "Python 3 (ipykernel)",
   "language": "python",
   "name": "python3"
  },
  "language_info": {
   "codemirror_mode": {
    "name": "ipython",
    "version": 3
   },
   "file_extension": ".py",
   "mimetype": "text/x-python",
   "name": "python",
   "nbconvert_exporter": "python",
   "pygments_lexer": "ipython3",
   "version": "3.9.7"
  }
 },
 "nbformat": 4,
 "nbformat_minor": 5
}
